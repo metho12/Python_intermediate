{
 "cells": [
  {
   "cell_type": "code",
   "execution_count": null,
   "id": "e5be450b",
   "metadata": {},
   "outputs": [],
   "source": [
    "# comments---team , developer\n",
    "# doc  : user"
   ]
  },
  {
   "cell_type": "code",
   "execution_count": 2,
   "id": "4a36afa2",
   "metadata": {},
   "outputs": [
    {
     "data": {
      "text/plain": [
       "9"
      ]
     },
     "execution_count": 2,
     "metadata": {},
     "output_type": "execute_result"
    }
   ],
   "source": [
    "class Clac:\n",
    "    # class to calculate math function\n",
    "    def sum(self,x,y):\n",
    "        # sum 2 values x& y\n",
    "        result = x+y\n",
    "        return result\n",
    "    \n",
    "    def mul(self,x,y):\n",
    "        \n",
    "        #simple function to sum 2 values x,y\n",
    "        return x+y\n",
    "    \n",
    "c1 = Clac()\n",
    "c1.sum(2,3)\n",
    "c1.mul(4,5)\n",
    "        "
   ]
  },
  {
   "cell_type": "code",
   "execution_count": 3,
   "id": "d79dde66",
   "metadata": {},
   "outputs": [
    {
     "name": "stdout",
     "output_type": "stream",
     "text": [
      "Enter your Age:0\n",
      "Enter number >0 \n"
     ]
    }
   ],
   "source": [
    "try:\n",
    "    age = int(input(\"Enter your Age:\"))\n",
    "    print(100/age)\n",
    "    \n",
    "except ZeroDivisionError:\n",
    "    print(\"Enter number >0 \")\n",
    "    \n",
    "except valueError:\n",
    "    print(\"Enter number \")"
   ]
  },
  {
   "cell_type": "code",
   "execution_count": 4,
   "id": "3f60df31",
   "metadata": {},
   "outputs": [
    {
     "name": "stdout",
     "output_type": "stream",
     "text": [
      "Enter your Age:1\n",
      "100.0\n"
     ]
    }
   ],
   "source": [
    "try:\n",
    "    age = int(input(\"Enter your Age:\"))\n",
    "    print(100/age)\n",
    "except (ZeroDivisionError,valueError):\n",
    "     print(\"Enter number and  >0 \")\n",
    "    "
   ]
  },
  {
   "cell_type": "code",
   "execution_count": 3,
   "id": "4f8dd1fe",
   "metadata": {},
   "outputs": [
    {
     "name": "stdout",
     "output_type": "stream",
     "text": [
      "Enter your Age:1\n",
      "100.0\n",
      "no exception\n"
     ]
    }
   ],
   "source": [
    "try:\n",
    "    age = int(input(\"Enter your Age:\"))\n",
    "    print(100/age)\n",
    "except (ZeroDivisionError,valueError):\n",
    "     print(\"Enter number and  >0 \")\n",
    "else : #no exception\n",
    "    print(\"no exception\")"
   ]
  },
  {
   "cell_type": "code",
   "execution_count": 4,
   "id": "f33a2409",
   "metadata": {},
   "outputs": [
    {
     "name": "stdout",
     "output_type": "stream",
     "text": [
      "Enter your Age:1\n",
      "100.0\n",
      "no exception\n",
      "close\n"
     ]
    }
   ],
   "source": [
    "try:\n",
    "    age = int(input(\"Enter your Age:\"))\n",
    "    print(100/age)\n",
    "except (ZeroDivisionError,valueError):\n",
    "     print(\"Enter number and  >0 \")\n",
    "else : #no exception\n",
    "    print(\"no exception\")\n",
    "finally : # always\n",
    "    print(\"close\")"
   ]
  },
  {
   "cell_type": "code",
   "execution_count": null,
   "id": "04598b38",
   "metadata": {},
   "outputs": [],
   "source": []
  }
 ],
 "metadata": {
  "kernelspec": {
   "display_name": "Python 3 (ipykernel)",
   "language": "python",
   "name": "python3"
  },
  "language_info": {
   "codemirror_mode": {
    "name": "ipython",
    "version": 3
   },
   "file_extension": ".py",
   "mimetype": "text/x-python",
   "name": "python",
   "nbconvert_exporter": "python",
   "pygments_lexer": "ipython3",
   "version": "3.9.12"
  }
 },
 "nbformat": 4,
 "nbformat_minor": 5
}
